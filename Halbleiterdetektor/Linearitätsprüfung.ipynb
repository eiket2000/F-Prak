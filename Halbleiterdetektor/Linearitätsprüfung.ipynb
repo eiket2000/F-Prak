{
 "cells": [
  {
   "cell_type": "code",
   "execution_count": 50,
   "metadata": {
    "pycharm": {
     "name": "#%%\n"
    }
   },
   "outputs": [],
   "source": [
    "import numpy as np\n",
    "import matplotlib.pyplot as plt\n",
    "from matplotlib.gridspec import GridSpec\n",
    "from scipy.stats import linregress\n",
    "%matplotlib qt\n",
    "from loader import arr_to_tab\n",
    "plt.rcParams['font.size']=20\n",
    "plt.tight_layout()"
   ]
  },
  {
   "cell_type": "code",
   "execution_count": 51,
   "metadata": {
    "pycharm": {
     "name": "#%%\n"
    }
   },
   "outputs": [
    {
     "name": "stdout",
     "output_type": "stream",
     "text": [
      "LinregressResult(slope=711.7636363636362, intercept=5.527272727273157, rvalue=0.999998130169571, pvalue=9.784155817701564e-26, stderr=0.4588082938817958, intercept_stderr=1.5558946240505265)\n",
      "i 0\n",
      "0 \n",
      "1 0.5&\n",
      "i 1\n",
      "0 \n",
      "1 1.0&\n",
      "i 2\n",
      "0 \n",
      "1 1.5&\n",
      "i 3\n",
      "0 \n",
      "1 2.0&\n",
      "i 4\n",
      "0 \n",
      "1 2.5&\n",
      "i 5\n",
      "0 \n",
      "1 3.0&\n",
      "i 6\n",
      "0 \n",
      "1 3.5&\n",
      "i 7\n",
      "0 \n",
      "1 4.0&\n",
      "i 8\n",
      "0 \n",
      "1 4.5&\n",
      "i 9\n",
      "0 \n",
      "1 5.0&\n",
      "i 10\n",
      "0 \n",
      "1 5.5&\n"
     ]
    }
   ],
   "source": [
    "energy_l=np.array([0.5*i for i in range(1,12)])\n",
    "\n",
    "max_channel = np.array([365,718,1073,1427,1784,2136,2496,2854,3208,3567,3921])\n",
    "c = lambda E: linregress(energy_l,max_channel)[0]*E+linregress(energy_l,max_channel)[1]\n",
    "print(linregress(energy_l,max_channel))\n",
    "\n",
    "data=[]\n",
    "integral=np.array([])\n",
    "for energy in energy_l:\n",
    "    l=np.loadtxt(\"data/lin/lin_\"+str(int(energy*1000))+\".TKA\")[2:]#\"/lin/lin_\"+int(str(energy*1000))\".TKA\")\n",
    "    l=np.append([0,0],l)\n",
    "    trapz=np.sum(l)\n",
    "    integral=np.append(integral,trapz)\n",
    "    data.append(l)\n",
    "\n",
    "arr_to_tab(energy_l,integral)"
   ]
  },
  {
   "cell_type": "code",
   "execution_count": 52,
   "metadata": {
    "pycharm": {
     "name": "#%%\n"
    }
   },
   "outputs": [],
   "source": [
    "fig = plt.figure(figsize=(10,5))\n",
    "gs = GridSpec(2,2)\n",
    "fig1 = fig.add_subplot(gs[:,:])\n",
    "fig1.set_title(\"\")\n",
    "fig1.set_ylabel(\"Impulse\")\n",
    "fig1.set_xlabel(\"Kanalnummer\")\n",
    "plt.tight_layout()\n",
    "for data_i in data:\n",
    "    fig1.plot(data_i)\n",
    "plt.savefig(\"plots/lin_Sprektrum.pdf\")\n",
    "plt.show()"
   ]
  },
  {
   "cell_type": "code",
   "execution_count": 53,
   "metadata": {
    "pycharm": {
     "name": "#%%\n"
    }
   },
   "outputs": [],
   "source": [
    "figint = plt.figure(figsize=(10,5))\n",
    "fig2 = figint.add_subplot(gs[:])\n",
    "fig2.plot(energy_l*1000,integral,\"o\")\n",
    "fig2.set_xlabel(\"Energy in keV\")\n",
    "plt.savefig(\"plots/lin_Inetgral.pdf\")\n",
    "plt.show()"
   ]
  },
  {
   "cell_type": "code",
   "execution_count": 54,
   "metadata": {
    "pycharm": {
     "name": "#%%\n"
    }
   },
   "outputs": [],
   "source": [
    "figmax = plt.figure(figsize=(10,5))\n",
    "fig3 = figmax.add_subplot(gs[:])\n",
    "fig3.plot(energy_l*1000,max_channel,marker=\"o\",color=\"blue\")\n",
    "fig3.plot(energy_l*1000,c(energy_l),color=\"blue\")\n",
    "fig3.set_xlabel(\"Energy in keV\")\n",
    "fig3.set_ylabel(\"Channel des Maximums\")\n",
    "plt.tight_layout()\n",
    "plt.savefig(\"plots/lin_maxchannel.pdf\")\n",
    "plt.show()"
   ]
  }
 ],
 "metadata": {
  "kernelspec": {
   "display_name": "Python 3 (ipykernel)",
   "language": "python",
   "name": "python3"
  },
  "language_info": {
   "codemirror_mode": {
    "name": "ipython",
    "version": 3
   },
   "file_extension": ".py",
   "mimetype": "text/x-python",
   "name": "python",
   "nbconvert_exporter": "python",
   "pygments_lexer": "ipython3",
   "version": "3.10.1"
  },
  "vscode": {
   "interpreter": {
    "hash": "e2a6788a9ab87ed78ac481f8eb5224eeebc6bbdf2aeae1c1749887ec9a11b6e7"
   }
  }
 },
 "nbformat": 4,
 "nbformat_minor": 2
}