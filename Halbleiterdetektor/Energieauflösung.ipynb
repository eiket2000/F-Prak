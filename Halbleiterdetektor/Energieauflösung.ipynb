{
 "cells": [
  {
   "cell_type": "code",
   "execution_count": 1,
   "metadata": {},
   "outputs": [],
   "source": [
    "import numpy as np\n",
    "import matplotlib.pyplot as plt\n",
    "from matplotlib.gridspec import GridSpec\n",
    "from scipy.optimize import curve_fit\n",
    "from scipy.stats import norm\n",
    "%matplotlib qt\n",
    "plt.rcParams['font.size']=30\n",
    "plt.tight_layout()"
   ]
  },
  {
   "cell_type": "code",
   "execution_count": 2,
   "metadata": {},
   "outputs": [],
   "source": [
    "#\n",
    "def gauss(x,a,m,c):\n",
    "    an=a/norm.pdf(m,loc=m,scale=c)\n",
    "    return an*norm.pdf(x,loc=m,scale=c)\n",
    "def gauss_res(x,a,c):\n",
    "    an=a/norm.pdf(m,loc=m,scale=c)\n",
    "    return an*norm.pdf(x,loc=m,scale=c)\n",
    "def energy_from_channel(channel):\n",
    "    '''Rückgabe in eV'''\n",
    "    return 5.4857e6 * channel / 3912\n",
    "data=np.append([0,0],np.loadtxt(\"data/muster_30min.TKA\")[2:])\n",
    "x=np.arange(0,4096,1)\n",
    "xE=energy_from_channel(x)"
   ]
  },
  {
   "cell_type": "code",
   "execution_count": 8,
   "metadata": {},
   "outputs": [
    {
     "name": "stderr",
     "output_type": "stream",
     "text": [
      "Error in sys.excepthook:\n",
      "Traceback (most recent call last):\n",
      "  File \"c:\\Users\\eiket\\AppData\\Local\\Programs\\Python\\Python310\\lib\\site-packages\\IPython\\core\\interactiveshell.py\", line 1934, in showtraceback\n",
      "    stb = value._render_traceback_()\n",
      "AttributeError: 'ValueError' object has no attribute '_render_traceback_'\n",
      "\n",
      "During handling of the above exception, another exception occurred:\n",
      "\n",
      "Traceback (most recent call last):\n",
      "  File \"c:\\Users\\eiket\\AppData\\Local\\Programs\\Python\\Python310\\lib\\site-packages\\IPython\\core\\interactiveshell.py\", line 1936, in showtraceback\n",
      "    stb = self.InteractiveTB.structured_traceback(etype,\n",
      "  File \"c:\\Users\\eiket\\AppData\\Local\\Programs\\Python\\Python310\\lib\\site-packages\\IPython\\core\\ultratb.py\", line 1105, in structured_traceback\n",
      "    return FormattedTB.structured_traceback(\n",
      "  File \"c:\\Users\\eiket\\AppData\\Local\\Programs\\Python\\Python310\\lib\\site-packages\\IPython\\core\\ultratb.py\", line 999, in structured_traceback\n",
      "    return VerboseTB.structured_traceback(\n",
      "  File \"c:\\Users\\eiket\\AppData\\Local\\Programs\\Python\\Python310\\lib\\site-packages\\IPython\\core\\ultratb.py\", line 851, in structured_traceback\n",
      "    assert etb is not None\n",
      "AssertionError\n",
      "\n",
      "Original exception was:\n",
      "ValueError: object too deep for desired array\n"
     ]
    },
    {
     "ename": "error",
     "evalue": "Result from function call is not a proper array of floats.",
     "output_type": "error",
     "traceback": [
      "\u001b[1;31m---------------------------------------------------------------------------\u001b[0m",
      "\u001b[1;31merror\u001b[0m                                     Traceback (most recent call last)",
      "\u001b[1;32mc:\\Users\\eiket\\OneDrive\\Uni\\Master\\1. Semester\\F-Praktikum Teil 1\\f-prak\\Halbleiterdetektor\\Energieauflösung.ipynb Zelle 3\u001b[0m in \u001b[0;36m<module>\u001b[1;34m\u001b[0m\n\u001b[0;32m     <a href='vscode-notebook-cell:/c%3A/Users/eiket/OneDrive/Uni/Master/1.%20Semester/F-Praktikum%20Teil%201/f-prak/Halbleiterdetektor/Energieaufl%C3%B6sung.ipynb#W2sZmlsZQ%3D%3D?line=28'>29</a>\u001b[0m         plt\u001b[39m.\u001b[39mshow()\n\u001b[0;32m     <a href='vscode-notebook-cell:/c%3A/Users/eiket/OneDrive/Uni/Master/1.%20Semester/F-Praktikum%20Teil%201/f-prak/Halbleiterdetektor/Energieaufl%C3%B6sung.ipynb#W2sZmlsZQ%3D%3D?line=29'>30</a>\u001b[0m test\u001b[39m=\u001b[39mdata_class(xE,data)\n\u001b[1;32m---> <a href='vscode-notebook-cell:/c%3A/Users/eiket/OneDrive/Uni/Master/1.%20Semester/F-Praktikum%20Teil%201/f-prak/Halbleiterdetektor/Energieaufl%C3%B6sung.ipynb#W2sZmlsZQ%3D%3D?line=30'>31</a>\u001b[0m test\u001b[39m.\u001b[39;49mfit_gauss(p0\u001b[39m=\u001b[39;49m[\u001b[39m254000\u001b[39;49m,\u001b[39m5.47e6\u001b[39;49m,\u001b[39m8\u001b[39;49m])\n\u001b[0;32m     <a href='vscode-notebook-cell:/c%3A/Users/eiket/OneDrive/Uni/Master/1.%20Semester/F-Praktikum%20Teil%201/f-prak/Halbleiterdetektor/Energieaufl%C3%B6sung.ipynb#W2sZmlsZQ%3D%3D?line=31'>32</a>\u001b[0m test\u001b[39m.\u001b[39mplot_data()\n",
      "\u001b[1;32mc:\\Users\\eiket\\OneDrive\\Uni\\Master\\1. Semester\\F-Praktikum Teil 1\\f-prak\\Halbleiterdetektor\\Energieauflösung.ipynb Zelle 3\u001b[0m in \u001b[0;36mdata_class.fit_gauss\u001b[1;34m(self, p0)\u001b[0m\n\u001b[0;32m      <a href='vscode-notebook-cell:/c%3A/Users/eiket/OneDrive/Uni/Master/1.%20Semester/F-Praktikum%20Teil%201/f-prak/Halbleiterdetektor/Energieaufl%C3%B6sung.ipynb#W2sZmlsZQ%3D%3D?line=6'>7</a>\u001b[0m \u001b[39mdef\u001b[39;00m \u001b[39mfit_gauss\u001b[39m(\u001b[39mself\u001b[39m,p0\u001b[39m=\u001b[39m[\u001b[39m1\u001b[39m,\u001b[39m1\u001b[39m,\u001b[39m1\u001b[39m]):\n\u001b[1;32m----> <a href='vscode-notebook-cell:/c%3A/Users/eiket/OneDrive/Uni/Master/1.%20Semester/F-Praktikum%20Teil%201/f-prak/Halbleiterdetektor/Energieaufl%C3%B6sung.ipynb#W2sZmlsZQ%3D%3D?line=7'>8</a>\u001b[0m     \u001b[39mself\u001b[39m\u001b[39m.\u001b[39mpopt,\u001b[39mself\u001b[39m\u001b[39m.\u001b[39mpcov \u001b[39m=\u001b[39m curve_fit(gauss,\u001b[39mself\u001b[39;49m\u001b[39m.\u001b[39;49mxarr,\u001b[39mself\u001b[39;49m\u001b[39m.\u001b[39;49myarr,p0\u001b[39m=\u001b[39;49mp0)\n\u001b[0;32m      <a href='vscode-notebook-cell:/c%3A/Users/eiket/OneDrive/Uni/Master/1.%20Semester/F-Praktikum%20Teil%201/f-prak/Halbleiterdetektor/Energieaufl%C3%B6sung.ipynb#W2sZmlsZQ%3D%3D?line=8'>9</a>\u001b[0m     a,m,c\u001b[39m=\u001b[39m\u001b[39mself\u001b[39m\u001b[39m.\u001b[39mpopt\n\u001b[0;32m     <a href='vscode-notebook-cell:/c%3A/Users/eiket/OneDrive/Uni/Master/1.%20Semester/F-Praktikum%20Teil%201/f-prak/Halbleiterdetektor/Energieaufl%C3%B6sung.ipynb#W2sZmlsZQ%3D%3D?line=9'>10</a>\u001b[0m     \u001b[39mprint\u001b[39m(a,m,c)\n",
      "File \u001b[1;32mc:\\Users\\eiket\\AppData\\Local\\Programs\\Python\\Python310\\lib\\site-packages\\scipy\\optimize\\minpack.py:789\u001b[0m, in \u001b[0;36mcurve_fit\u001b[1;34m(f, xdata, ydata, p0, sigma, absolute_sigma, check_finite, bounds, method, jac, **kwargs)\u001b[0m\n\u001b[0;32m    787\u001b[0m \u001b[39m# Remove full_output from kwargs, otherwise we're passing it in twice.\u001b[39;00m\n\u001b[0;32m    788\u001b[0m return_full \u001b[39m=\u001b[39m kwargs\u001b[39m.\u001b[39mpop(\u001b[39m'\u001b[39m\u001b[39mfull_output\u001b[39m\u001b[39m'\u001b[39m, \u001b[39mFalse\u001b[39;00m)\n\u001b[1;32m--> 789\u001b[0m res \u001b[39m=\u001b[39m leastsq(func, p0, Dfun\u001b[39m=\u001b[39mjac, full_output\u001b[39m=\u001b[39m\u001b[39m1\u001b[39m, \u001b[39m*\u001b[39m\u001b[39m*\u001b[39mkwargs)\n\u001b[0;32m    790\u001b[0m popt, pcov, infodict, errmsg, ier \u001b[39m=\u001b[39m res\n\u001b[0;32m    791\u001b[0m ysize \u001b[39m=\u001b[39m \u001b[39mlen\u001b[39m(infodict[\u001b[39m'\u001b[39m\u001b[39mfvec\u001b[39m\u001b[39m'\u001b[39m])\n",
      "File \u001b[1;32mc:\\Users\\eiket\\AppData\\Local\\Programs\\Python\\Python310\\lib\\site-packages\\scipy\\optimize\\minpack.py:423\u001b[0m, in \u001b[0;36mleastsq\u001b[1;34m(func, x0, args, Dfun, full_output, col_deriv, ftol, xtol, gtol, maxfev, epsfcn, factor, diag)\u001b[0m\n\u001b[0;32m    421\u001b[0m     \u001b[39mif\u001b[39;00m maxfev \u001b[39m==\u001b[39m \u001b[39m0\u001b[39m:\n\u001b[0;32m    422\u001b[0m         maxfev \u001b[39m=\u001b[39m \u001b[39m200\u001b[39m\u001b[39m*\u001b[39m(n \u001b[39m+\u001b[39m \u001b[39m1\u001b[39m)\n\u001b[1;32m--> 423\u001b[0m     retval \u001b[39m=\u001b[39m _minpack\u001b[39m.\u001b[39;49m_lmdif(func, x0, args, full_output, ftol, xtol,\n\u001b[0;32m    424\u001b[0m                              gtol, maxfev, epsfcn, factor, diag)\n\u001b[0;32m    425\u001b[0m \u001b[39melse\u001b[39;00m:\n\u001b[0;32m    426\u001b[0m     \u001b[39mif\u001b[39;00m col_deriv:\n",
      "\u001b[1;31merror\u001b[0m: Result from function call is not a proper array of floats."
     ]
    }
   ],
   "source": [
    "class data_class:\n",
    "    def __init__(self,xarr,yarr) -> None:\n",
    "        self.xarr=xarr\n",
    "        self.yarr=yarr\n",
    "        self.length=len(xarr)\n",
    "        pass\n",
    "    def fit_gauss(self,p0=[1,1,1]):\n",
    "        self.popt,self.pcov = curve_fit(gauss,self.xarr,self.yarr,p0=p0)\n",
    "        a,m,c=self.popt\n",
    "        print(a,m,c)\n",
    "        self.res_gauss = gauss(self.xarr,a,m,c)\n",
    "        print(max(self.res_gauss))\n",
    "        return self.res_gauss,self.pcov\n",
    "    def plot_data(self,titel=\"\",xlim=[],xlabel=\"X-Achse\",ylabel=\"Y-Achse\",figuresize=[20,30],show_gauss=True,save=\"fig.pdf\"):\n",
    "        fig = plt.figure(figsize=figuresize)\n",
    "        gs = GridSpec(30,10)\n",
    "        fig1 = fig.add_subplot(gs[:,:])\n",
    "        fig1.set_title(titel)\n",
    "        if xlim==[]:\n",
    "            xlim=[min(self.xarr),max(self.xarr)]\n",
    "        fig1.set_xlim(xlim)\n",
    "        fig1.set_ylabel(ylabel)\n",
    "        fig1.set_xlabel(xlabel)\n",
    "        fig1.plot(self.xarr,self.yarr)\n",
    "        if show_gauss:\n",
    "            fig1.plot(self.xarr,self.res_gauss)\n",
    "        plt.tight_layout()\n",
    "        plt.savefig(\"plots/test.pdf\")\n",
    "        plt.show()\n",
    "test=data_class(xE,data)\n",
    "test.fit_gauss(p0=[254000,5.47e6,8])\n",
    "test.plot_data()"
   ]
  },
  {
   "cell_type": "code",
   "execution_count": 4,
   "metadata": {},
   "outputs": [
    {
     "name": "stdout",
     "output_type": "stream",
     "text": [
      "Max 1 5473.079524539878 3903\n",
      "Max 2 5428.206722903886 3871\n",
      "Max 3 5517.9523261758695 3935\n",
      "Max 4 5381.931646216769 3838\n"
     ]
    },
    {
     "name": "stderr",
     "output_type": "stream",
     "text": [
      "C:\\Users\\eiket\\AppData\\Local\\Temp\\ipykernel_17740\\1905840243.py:43: UserWarning: Tight layout not applied. tight_layout cannot make axes height small enough to accommodate all axes decorations.\n",
      "  plt.tight_layout()\n"
     ]
    }
   ],
   "source": [
    "fig = plt.figure(figsize=(30,50))\n",
    "gs = GridSpec(50,10)\n",
    "fig1 = fig.add_subplot(gs[0:10,:])\n",
    "fig2 = fig.add_subplot(gs[10:20,:],sharey=fig1)\n",
    "fig3 = fig.add_subplot(gs[20:30,:],sharey=fig1)\n",
    "fig4 = fig.add_subplot(gs[30:40,:],sharey=fig1)\n",
    "fig5= fig.add_subplot(gs[40:50,:],sharey=fig1)\n",
    "fig1.set_title(\"Mustergültiges $\\\\alpha$-Spektrum\")\n",
    "fig1.set_xlim(5e3,5.7e3)\n",
    "fig3.set_xlim(5e3,5.7e3)\n",
    "fig2.set_xlim(5e3,5.7e3)\n",
    "fig4.set_xlim(5e3,5.7e3)\n",
    "fig5.set_xlim(5e3,5.7e3)\n",
    "# fig1.set_xticklabels([])\n",
    "# fig2.set_xticklabels([])\n",
    "# fig3.set_xticklabels([])\n",
    "# fig4.set_xticklabels([])\n",
    "fig1.set_ylabel(\"Impulse\")\n",
    "fig2.set_ylabel(\"Impulse\")\n",
    "fig3.set_ylabel(\"Impulse\")\n",
    "fig4.set_ylabel(\"Impulse\")\n",
    "fig5.set_ylabel(\"Impulse\")\n",
    "fig5.set_xlabel(\"Energie in keV\")\n",
    "\n",
    "data=np.append([0,0],np.loadtxt(\"data/langzeit.TKA\")[2:])\n",
    "\n",
    "a,m,c=254150,3903,13\n",
    "print(\"Max 1 \"+str(energy_from_channel(m)*1e-3),m)\n",
    "peak1=np.array(gauss(x,a,m,c))\n",
    "fig1.plot(xE*1e-3,peak1)\n",
    "fig1.plot(xE*1e-3,data)\n",
    "data1=data-peak1\n",
    "a,m,c=162100,3871,13\n",
    "print(\"Max 2 \"+str(energy_from_channel(m)*1e-3),m)\n",
    "peak2=np.array(gauss(x,a,m,c))\n",
    "fig2.plot(xE*1e-3,peak2)\n",
    "fig2.plot(xE*1e-3,data1)\n",
    "data2=data1-peak2\n",
    "a,m,c=150000,3935,10\n",
    "print(\"Max 3 \"+str(energy_from_channel(m)*1e-3),m)\n",
    "peak3=np.array(gauss(x,a,m,c))\n",
    "fig3.plot(xE*1e-3,peak3)\n",
    "fig3.plot(xE*1e-3,data2)\n",
    "data3=data2-peak3\n",
    "a,m,c=122700,3838,14\n",
    "print(\"Max 4 \"+str(energy_from_channel(m)*1e-3),m)\n",
    "peak3=np.array(gauss(x,a,m,c))\n",
    "fig4.plot(xE*1e-3,peak3)\n",
    "fig4.plot(xE*1e-3,data3)\n",
    "data4=data3-peak3\n",
    "fig5.plot(xE*1e-3,data4)\n",
    "\n",
    "\n",
    "plt.tight_layout()\n",
    "plt.savefig(\"plots/Mus_Auflösung.pdf\")\n",
    "plt.show()"
   ]
  },
  {
   "cell_type": "code",
   "execution_count": 9,
   "metadata": {},
   "outputs": [
    {
     "ename": "ValueError",
     "evalue": "x and y must have same first dimension, but have shapes (4096,) and (9, 4096)",
     "output_type": "error",
     "traceback": [
      "\u001b[1;31m---------------------------------------------------------------------------\u001b[0m",
      "\u001b[1;31mValueError\u001b[0m                                Traceback (most recent call last)",
      "\u001b[1;32mc:\\Users\\eiket\\OneDrive\\Uni\\Master\\1. Semester\\F-Praktikum Teil 1\\f-prak\\Halbleiterdetektor\\Energieauflösung.ipynb Zelle 5\u001b[0m in \u001b[0;36m<module>\u001b[1;34m\u001b[0m\n\u001b[0;32m      <a href='vscode-notebook-cell:/c%3A/Users/eiket/OneDrive/Uni/Master/1.%20Semester/F-Praktikum%20Teil%201/f-prak/Halbleiterdetektor/Energieaufl%C3%B6sung.ipynb#W4sZmlsZQ%3D%3D?line=7'>8</a>\u001b[0m fig2\u001b[39m.\u001b[39mset_ylabel(\u001b[39m\"\u001b[39m\u001b[39mImpulse\u001b[39m\u001b[39m\"\u001b[39m)\n\u001b[0;32m      <a href='vscode-notebook-cell:/c%3A/Users/eiket/OneDrive/Uni/Master/1.%20Semester/F-Praktikum%20Teil%201/f-prak/Halbleiterdetektor/Energieaufl%C3%B6sung.ipynb#W4sZmlsZQ%3D%3D?line=8'>9</a>\u001b[0m fig2\u001b[39m.\u001b[39mset_xlabel(\u001b[39m\"\u001b[39m\u001b[39mKanalnummer\u001b[39m\u001b[39m\"\u001b[39m)\n\u001b[1;32m---> <a href='vscode-notebook-cell:/c%3A/Users/eiket/OneDrive/Uni/Master/1.%20Semester/F-Praktikum%20Teil%201/f-prak/Halbleiterdetektor/Energieaufl%C3%B6sung.ipynb#W4sZmlsZQ%3D%3D?line=11'>12</a>\u001b[0m fig1\u001b[39m.\u001b[39;49mplot(xE,data)\n\u001b[0;32m     <a href='vscode-notebook-cell:/c%3A/Users/eiket/OneDrive/Uni/Master/1.%20Semester/F-Praktikum%20Teil%201/f-prak/Halbleiterdetektor/Energieaufl%C3%B6sung.ipynb#W4sZmlsZQ%3D%3D?line=12'>13</a>\u001b[0m popt,pcov \u001b[39m=\u001b[39m curve_fit(gauss,x,data,p0\u001b[39m=\u001b[39m[\u001b[39m54150\u001b[39m,\u001b[39m3903\u001b[39m,\u001b[39m13\u001b[39m])\n\u001b[0;32m     <a href='vscode-notebook-cell:/c%3A/Users/eiket/OneDrive/Uni/Master/1.%20Semester/F-Praktikum%20Teil%201/f-prak/Halbleiterdetektor/Energieaufl%C3%B6sung.ipynb#W4sZmlsZQ%3D%3D?line=13'>14</a>\u001b[0m a,m,c\u001b[39m=\u001b[39mpopt\n",
      "File \u001b[1;32mc:\\Users\\eiket\\AppData\\Local\\Programs\\Python\\Python310\\lib\\site-packages\\matplotlib\\axes\\_axes.py:1632\u001b[0m, in \u001b[0;36mAxes.plot\u001b[1;34m(self, scalex, scaley, data, *args, **kwargs)\u001b[0m\n\u001b[0;32m   1390\u001b[0m \u001b[39m\"\"\"\u001b[39;00m\n\u001b[0;32m   1391\u001b[0m \u001b[39mPlot y versus x as lines and/or markers.\u001b[39;00m\n\u001b[0;32m   1392\u001b[0m \n\u001b[1;32m   (...)\u001b[0m\n\u001b[0;32m   1629\u001b[0m \u001b[39m(``'green'``) or hex strings (``'#008000'``).\u001b[39;00m\n\u001b[0;32m   1630\u001b[0m \u001b[39m\"\"\"\u001b[39;00m\n\u001b[0;32m   1631\u001b[0m kwargs \u001b[39m=\u001b[39m cbook\u001b[39m.\u001b[39mnormalize_kwargs(kwargs, mlines\u001b[39m.\u001b[39mLine2D)\n\u001b[1;32m-> 1632\u001b[0m lines \u001b[39m=\u001b[39m [\u001b[39m*\u001b[39m\u001b[39mself\u001b[39m\u001b[39m.\u001b[39m_get_lines(\u001b[39m*\u001b[39margs, data\u001b[39m=\u001b[39mdata, \u001b[39m*\u001b[39m\u001b[39m*\u001b[39mkwargs)]\n\u001b[0;32m   1633\u001b[0m \u001b[39mfor\u001b[39;00m line \u001b[39min\u001b[39;00m lines:\n\u001b[0;32m   1634\u001b[0m     \u001b[39mself\u001b[39m\u001b[39m.\u001b[39madd_line(line)\n",
      "File \u001b[1;32mc:\\Users\\eiket\\AppData\\Local\\Programs\\Python\\Python310\\lib\\site-packages\\matplotlib\\axes\\_base.py:312\u001b[0m, in \u001b[0;36m_process_plot_var_args.__call__\u001b[1;34m(self, data, *args, **kwargs)\u001b[0m\n\u001b[0;32m    310\u001b[0m     this \u001b[39m+\u001b[39m\u001b[39m=\u001b[39m args[\u001b[39m0\u001b[39m],\n\u001b[0;32m    311\u001b[0m     args \u001b[39m=\u001b[39m args[\u001b[39m1\u001b[39m:]\n\u001b[1;32m--> 312\u001b[0m \u001b[39myield from\u001b[39;00m \u001b[39mself\u001b[39;49m\u001b[39m.\u001b[39;49m_plot_args(this, kwargs)\n",
      "File \u001b[1;32mc:\\Users\\eiket\\AppData\\Local\\Programs\\Python\\Python310\\lib\\site-packages\\matplotlib\\axes\\_base.py:498\u001b[0m, in \u001b[0;36m_process_plot_var_args._plot_args\u001b[1;34m(self, tup, kwargs, return_kwargs)\u001b[0m\n\u001b[0;32m    495\u001b[0m     \u001b[39mself\u001b[39m\u001b[39m.\u001b[39maxes\u001b[39m.\u001b[39myaxis\u001b[39m.\u001b[39mupdate_units(y)\n\u001b[0;32m    497\u001b[0m \u001b[39mif\u001b[39;00m x\u001b[39m.\u001b[39mshape[\u001b[39m0\u001b[39m] \u001b[39m!=\u001b[39m y\u001b[39m.\u001b[39mshape[\u001b[39m0\u001b[39m]:\n\u001b[1;32m--> 498\u001b[0m     \u001b[39mraise\u001b[39;00m \u001b[39mValueError\u001b[39;00m(\u001b[39mf\u001b[39m\u001b[39m\"\u001b[39m\u001b[39mx and y must have same first dimension, but \u001b[39m\u001b[39m\"\u001b[39m\n\u001b[0;32m    499\u001b[0m                      \u001b[39mf\u001b[39m\u001b[39m\"\u001b[39m\u001b[39mhave shapes \u001b[39m\u001b[39m{\u001b[39;00mx\u001b[39m.\u001b[39mshape\u001b[39m}\u001b[39;00m\u001b[39m and \u001b[39m\u001b[39m{\u001b[39;00my\u001b[39m.\u001b[39mshape\u001b[39m}\u001b[39;00m\u001b[39m\"\u001b[39m)\n\u001b[0;32m    500\u001b[0m \u001b[39mif\u001b[39;00m x\u001b[39m.\u001b[39mndim \u001b[39m>\u001b[39m \u001b[39m2\u001b[39m \u001b[39mor\u001b[39;00m y\u001b[39m.\u001b[39mndim \u001b[39m>\u001b[39m \u001b[39m2\u001b[39m:\n\u001b[0;32m    501\u001b[0m     \u001b[39mraise\u001b[39;00m \u001b[39mValueError\u001b[39;00m(\u001b[39mf\u001b[39m\u001b[39m\"\u001b[39m\u001b[39mx and y can be no greater than 2D, but have \u001b[39m\u001b[39m\"\u001b[39m\n\u001b[0;32m    502\u001b[0m                      \u001b[39mf\u001b[39m\u001b[39m\"\u001b[39m\u001b[39mshapes \u001b[39m\u001b[39m{\u001b[39;00mx\u001b[39m.\u001b[39mshape\u001b[39m}\u001b[39;00m\u001b[39m and \u001b[39m\u001b[39m{\u001b[39;00my\u001b[39m.\u001b[39mshape\u001b[39m}\u001b[39;00m\u001b[39m\"\u001b[39m)\n",
      "\u001b[1;31mValueError\u001b[0m: x and y must have same first dimension, but have shapes (4096,) and (9, 4096)"
     ]
    }
   ],
   "source": [
    "fig = plt.figure(figsize=(20,30))\n",
    "gs = GridSpec(30,10)\n",
    "fig1 = fig.add_subplot(gs[:,:])\n",
    "fig1.set_title(\"Mustergültiges $\\\\alpha$-Spektrum\")\n",
    "fig1.set_xlim(3800,4010)\n",
    "fig1.set_ylabel(\"Impulse\")\n",
    "fig1.set_xlabel(\"Kanalnummer\")\n",
    "fig2.set_ylabel(\"Impulse\")\n",
    "fig2.set_xlabel(\"Kanalnummer\")\n",
    "\n",
    "\n",
    "fig1.plot(xE,data)\n",
    "popt,pcov = curve_fit(gauss,x,data,p0=[54150,3903,13])\n",
    "a,m,c=popt\n",
    "# a,m,c=254150,3903,13\n",
    "peak1=np.array(gauss(x,a,m,c))\n",
    "# fig1.plot(xE,peak1)\n",
    "\n",
    "\n",
    "plt.tight_layout()\n",
    "plt.savefig(\"plots/Mus_roh.pdf\")\n",
    "plt.show()"
   ]
  },
  {
   "cell_type": "markdown",
   "metadata": {},
   "source": [
    "Auflösung"
   ]
  },
  {
   "cell_type": "code",
   "execution_count": 12,
   "metadata": {},
   "outputs": [
    {
     "name": "stdout",
     "output_type": "stream",
     "text": [
      "0V 2150 286.0\n",
      "241.32901388635943 2141.7679527837176 47.76677324366668\n",
      "1V 2149 280.0\n",
      "238.4847850266861 2148.2641954166425 47.81230007930346\n",
      "2V 2181 294.0\n",
      "235.48057530833617 2176.014278567548 48.10189594029248\n",
      "3V 2224 268.0\n",
      "237.12094220816726 2201.2952711017138 47.49381445300327\n",
      "4V 2241 278.0\n",
      "238.65926345758362 2229.3562300473313 48.010522384014735\n",
      "5V 2200 250\n",
      "236.8581870482536 2268.302885786131 47.88504058912945\n",
      "10V 3155 225.0\n",
      "205.6 4426.3 13\n",
      "20V 3754 303.0\n",
      "179.0465247791283 3710.6292548904207 57.00104129013587\n",
      "40V 3898 310.0\n",
      "173.24460582493938 3854.645815186897 58.99682046371625\n"
     ]
    },
    {
     "name": "stderr",
     "output_type": "stream",
     "text": [
      "C:\\Users\\eiket\\AppData\\Local\\Temp\\ipykernel_17740\\2721616125.py:35: UserWarning: Legend does not support 0 instances.\n",
      "A proxy artist may be used instead.\n",
      "See: https://matplotlib.org/users/legend_guide.html#creating-artists-specifically-for-adding-to-the-legend-aka-proxy-artists\n",
      "  plt.legend(Ul,fwhm)\n",
      "C:\\Users\\eiket\\AppData\\Local\\Temp\\ipykernel_17740\\2721616125.py:35: UserWarning: Legend does not support 1 instances.\n",
      "A proxy artist may be used instead.\n",
      "See: https://matplotlib.org/users/legend_guide.html#creating-artists-specifically-for-adding-to-the-legend-aka-proxy-artists\n",
      "  plt.legend(Ul,fwhm)\n",
      "C:\\Users\\eiket\\AppData\\Local\\Temp\\ipykernel_17740\\2721616125.py:35: UserWarning: Legend does not support 2 instances.\n",
      "A proxy artist may be used instead.\n",
      "See: https://matplotlib.org/users/legend_guide.html#creating-artists-specifically-for-adding-to-the-legend-aka-proxy-artists\n",
      "  plt.legend(Ul,fwhm)\n",
      "C:\\Users\\eiket\\AppData\\Local\\Temp\\ipykernel_17740\\2721616125.py:35: UserWarning: Legend does not support 3 instances.\n",
      "A proxy artist may be used instead.\n",
      "See: https://matplotlib.org/users/legend_guide.html#creating-artists-specifically-for-adding-to-the-legend-aka-proxy-artists\n",
      "  plt.legend(Ul,fwhm)\n",
      "C:\\Users\\eiket\\AppData\\Local\\Temp\\ipykernel_17740\\2721616125.py:35: UserWarning: Legend does not support 4 instances.\n",
      "A proxy artist may be used instead.\n",
      "See: https://matplotlib.org/users/legend_guide.html#creating-artists-specifically-for-adding-to-the-legend-aka-proxy-artists\n",
      "  plt.legend(Ul,fwhm)\n",
      "C:\\Users\\eiket\\AppData\\Local\\Temp\\ipykernel_17740\\2721616125.py:35: UserWarning: Legend does not support 5 instances.\n",
      "A proxy artist may be used instead.\n",
      "See: https://matplotlib.org/users/legend_guide.html#creating-artists-specifically-for-adding-to-the-legend-aka-proxy-artists\n",
      "  plt.legend(Ul,fwhm)\n",
      "C:\\Users\\eiket\\AppData\\Local\\Temp\\ipykernel_17740\\2721616125.py:35: UserWarning: Legend does not support 10 instances.\n",
      "A proxy artist may be used instead.\n",
      "See: https://matplotlib.org/users/legend_guide.html#creating-artists-specifically-for-adding-to-the-legend-aka-proxy-artists\n",
      "  plt.legend(Ul,fwhm)\n",
      "C:\\Users\\eiket\\AppData\\Local\\Temp\\ipykernel_17740\\2721616125.py:35: UserWarning: Legend does not support 20 instances.\n",
      "A proxy artist may be used instead.\n",
      "See: https://matplotlib.org/users/legend_guide.html#creating-artists-specifically-for-adding-to-the-legend-aka-proxy-artists\n",
      "  plt.legend(Ul,fwhm)\n",
      "C:\\Users\\eiket\\AppData\\Local\\Temp\\ipykernel_17740\\2721616125.py:35: UserWarning: Legend does not support 40 instances.\n",
      "A proxy artist may be used instead.\n",
      "See: https://matplotlib.org/users/legend_guide.html#creating-artists-specifically-for-adding-to-the-legend-aka-proxy-artists\n",
      "  plt.legend(Ul,fwhm)\n",
      "C:\\Users\\eiket\\AppData\\Local\\Temp\\ipykernel_17740\\2721616125.py:39: UserWarning: Tight layout not applied. tight_layout cannot make axes height small enough to accommodate all axes decorations.\n",
      "  plt.tight_layout()\n"
     ]
    }
   ],
   "source": [
    "data=[]\n",
    "labels=[]\n",
    "Ul = [0,1,2,3,4,5,10,20,40]\n",
    "for U in Ul:\n",
    "    data.append(np.append([0,0],np.loadtxt(\"data/auflösung/auflösung_\"+str(U)+\".TKA\")[2:]))\n",
    "    labels.append(str(U)+\"V\")\n",
    "\n",
    "\n",
    "fig = plt.figure(figsize=(20,30))\n",
    "gs = GridSpec(30,10)\n",
    "fig1 = fig.add_subplot(gs[:,:])\n",
    "# fig1.set_xlim(3800,4010)\n",
    "fig1.set_ylabel(\"Impulse\")\n",
    "fig1.set_xlabel(\"Energie in keV\")\n",
    "fig2.set_ylabel(\"Impulse\")\n",
    "fig2.set_xlabel(\"Energie in keV\")\n",
    "fwhm=[]\n",
    "for i in range(len(data)):\n",
    "    if i==5:\n",
    "        m=energy_from_channel(2200)*1e-3\n",
    "        a=250\n",
    "    else:\n",
    "        m=energy_from_channel(np.argmax(data[i]))*1e-3\n",
    "        a=np.max(data[i])\n",
    "    print(labels[i],m,a)\n",
    "    popt,pcov=curve_fit(gauss,xE*1e-3,data[i],p0=[a,m,3])\n",
    "    a,m,c=popt\n",
    "    if i==6:\n",
    "        a,m,c=205.6,4426.3,13\n",
    "    fwhm.append(2*np.sqrt(2*np.log(2))* c)\n",
    "    fig1.plot(xE*1e-3,data[i],label=labels[i])\n",
    "    fig1.plot(xE*1e-3,gauss(xE*1e-3,a,m,c),label=labels[i]+\" fit\")\n",
    "\n",
    "plt.legend(Ul,fwhm)\n",
    "\n",
    "# fig1.plot(x,peak1)\n",
    "\n",
    "plt.tight_layout()\n",
    "plt.savefig(\"plots/Auf_spektrum.pdf\")\n",
    "plt.show()\n",
    "\n"
   ]
  },
  {
   "cell_type": "code",
   "execution_count": 7,
   "metadata": {},
   "outputs": [],
   "source": [
    "F = 0.115 # Fano-Faktor für Silizium\n",
    "def fwhm_intrin(E,F):\n",
    "    return 2.0*np.sqrt(2.0*np.log(2.0))*np.sqrt(3.62*F*E)\n",
    "\n",
    "def fwhm_rauschen(fwhm,fwhm_intrin):\n",
    "    return np.sqrt(fwhm**2-fwhm_intrin**2)\n",
    "\n",
    "fwhm_l=[]\n",
    "\n",
    "fig = plt.figure(figsize=(20,10))\n",
    "fig1=fig.add_subplot()\n",
    "fig1.set_ylabel(\"FWMH in keV\")\n",
    "fig1.set_xlabel(\"U in V\")\n",
    "fig1.plot(Ul,fwhm,marker=\"o\")\n",
    "plt.tight_layout\n",
    "plt.savefig(\"plots/Auf_FWMH.pdf\")\n",
    "plt.show()"
   ]
  }
 ],
 "metadata": {
  "kernelspec": {
   "display_name": "Python 3.10.1 64-bit",
   "language": "python",
   "name": "python3"
  },
  "language_info": {
   "codemirror_mode": {
    "name": "ipython",
    "version": 3
   },
   "file_extension": ".py",
   "mimetype": "text/x-python",
   "name": "python",
   "nbconvert_exporter": "python",
   "pygments_lexer": "ipython3",
   "version": "3.10.1"
  },
  "vscode": {
   "interpreter": {
    "hash": "e2a6788a9ab87ed78ac481f8eb5224eeebc6bbdf2aeae1c1749887ec9a11b6e7"
   }
  }
 },
 "nbformat": 4,
 "nbformat_minor": 2
}
