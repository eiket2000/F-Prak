{
 "cells": [
  {
   "cell_type": "code",
   "execution_count": 52,
   "metadata": {},
   "outputs": [],
   "source": [
    "import numpy as np\n",
    "import matplotlib.pyplot as plt\n",
    "from matplotlib.gridspec import GridSpec\n",
    "%matplotlib qt\n",
    "\n",
    "fig = plt.figure(figsize=(10,10))\n",
    "figint = plt.figure(figsize=(10,10))\n",
    "gs = GridSpec(2,2)\n",
    "fig2 = figint.add_subplot(gs[:])\n",
    "fig1 = fig.add_subplot(gs[:,:])"
   ]
  },
  {
   "cell_type": "code",
   "execution_count": 53,
   "metadata": {},
   "outputs": [
    {
     "name": "stdout",
     "output_type": "stream",
     "text": [
      "[0. 0. 0. ... 0. 0. 0.]\n"
     ]
    }
   ],
   "source": [
    "energy_l=np.array([0.5*i for i in range(1,12)])\n",
    "data=np.array([])\n",
    "integral=np.array([])\n",
    "for energy in energy_l:\n",
    "    l=np.loadtxt(\"lin/lin_\"+str(int(energy*1000))+\".TKA\")[2:]#\"/lin/lin_\"+int(str(energy*1000))\".TKA\")\n",
    "    l=np.append([0,0],l)\n",
    "    trapz=np.sum(l)\n",
    "    integral=np.append(integral,trapz)\n",
    "    data=np.append(data,l)\n",
    "    fig1.plot(l)\n",
    "\n",
    "\n",
    "print(data)"
   ]
  },
  {
   "cell_type": "code",
   "execution_count": 54,
   "metadata": {},
   "outputs": [],
   "source": [
    "\n",
    "fig1.set_title(\"\")\n",
    "fig1.set_ylabel(\"Impulse\")\n",
    "fig1.set_xlabel(\"Kanalnummer\")\n",
    "plt.savefig(\"plots/Sprektrum_Test.pdf\")\n",
    "\n",
    "fig2.plot(energy_l*1000,integral,\"o\")\n",
    "fig2.set_xlabel(\"Energy in keV\")\n",
    "plt.savefig(\"plots/Inetgral.pdf\")\n",
    "plt.show()"
   ]
  }
 ],
 "metadata": {
  "kernelspec": {
   "display_name": "Python 3 (ipykernel)",
   "language": "python",
   "name": "python3"
  },
  "language_info": {
   "codemirror_mode": {
    "name": "ipython",
    "version": 3
   },
   "file_extension": ".py",
   "mimetype": "text/x-python",
   "name": "python",
   "nbconvert_exporter": "python",
   "pygments_lexer": "ipython3",
   "version": "3.9.13"
  },
  "vscode": {
   "interpreter": {
    "hash": "e2a6788a9ab87ed78ac481f8eb5224eeebc6bbdf2aeae1c1749887ec9a11b6e7"
   }
  }
 },
 "nbformat": 4,
 "nbformat_minor": 2
}
