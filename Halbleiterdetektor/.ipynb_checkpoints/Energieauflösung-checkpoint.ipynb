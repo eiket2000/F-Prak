{
 "cells": [
  {
   "cell_type": "code",
   "execution_count": 81,
   "metadata": {},
   "outputs": [],
   "source": [
    "import numpy as np\n",
    "import matplotlib.pyplot as plt\n",
    "from matplotlib.gridspec import GridSpec\n",
    "from scipy.optimize import curve_fit\n",
    "from scipy.stats import norm\n",
    "%matplotlib qt"
   ]
  },
  {
   "cell_type": "code",
   "execution_count": 89,
   "metadata": {},
   "outputs": [],
   "source": [
    "def landau_pdf(x, amplitude, width, max_location, y_location):\n",
    "            ''''The landau pdf with additional parameters'''\n",
    "            return amplitude * np.exp(- width * ((x - max_location) + np.exp(- (x - max_location)))) + y_location\n",
    "def gauss(x,m,c):\n",
    "    return norm.pdf(x,loc=m,scale=c)\n",
    "data=np.append([0,0],np.loadtxt(\"data/kalibration_alpha1.TKA\")[2:])\n",
    "x=np.linspace(0,40.96,4096)\n",
    "popt,pcov=curve_fit(gauss,x,data,p0=np.array([40,2]))\n",
    "m,c=popt"
   ]
  },
  {
   "cell_type": "code",
   "execution_count": 93,
   "metadata": {},
   "outputs": [],
   "source": [
    "fig = plt.figure(figsize=(10,10))\n",
    "gs = GridSpec(2,2)\n",
    "fig1 = fig.add_subplot(gs[:,:])\n",
    "fig1.set_title(\"\")\n",
    "fig1.set_ylabel(\"Impulse\")\n",
    "fig1.set_xlabel(\"Kanalnummer\")\n",
    "fig1.plot(data)\n",
    "fig1.plot(x*100,gauss(x,m,c))\n",
    "\n",
    "plt.savefig(\"plots/Auflösung.pdf\")\n",
    "plt.show()"
   ]
  },
  {
   "cell_type": "code",
   "execution_count": null,
   "metadata": {},
   "outputs": [],
   "source": []
  }
 ],
 "metadata": {
  "kernelspec": {
   "display_name": "Python 3 (ipykernel)",
   "language": "python",
   "name": "python3"
  },
  "language_info": {
   "codemirror_mode": {
    "name": "ipython",
    "version": 3
   },
   "file_extension": ".py",
   "mimetype": "text/x-python",
   "name": "python",
   "nbconvert_exporter": "python",
   "pygments_lexer": "ipython3",
   "version": "3.9.13"
  },
  "vscode": {
   "interpreter": {
    "hash": "e2a6788a9ab87ed78ac481f8eb5224eeebc6bbdf2aeae1c1749887ec9a11b6e7"
   }
  }
 },
 "nbformat": 4,
 "nbformat_minor": 2
}
