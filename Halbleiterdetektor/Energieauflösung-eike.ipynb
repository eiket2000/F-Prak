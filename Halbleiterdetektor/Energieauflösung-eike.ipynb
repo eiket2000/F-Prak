{
 "cells": [
  {
   "cell_type": "code",
   "execution_count": 1,
   "metadata": {},
   "outputs": [],
   "source": [
    "import numpy as np\n",
    "import matplotlib.pyplot as plt\n",
    "from matplotlib.gridspec import GridSpec\n",
    "from scipy.optimize import curve_fit\n",
    "from scipy.stats import norm\n",
    "%matplotlib qt\n",
    "plt.rcParams['font.size']=23\n",
    "plt.tight_layout()"
   ]
  },
  {
   "cell_type": "code",
   "execution_count": 2,
   "metadata": {},
   "outputs": [],
   "source": [
    "#\n",
    "def gauss(x,a,m,c):\n",
    "    an=a/norm.pdf(m,loc=m,scale=c)\n",
    "    return an*norm.pdf(x,loc=m,scale=c)\n",
    "def gauss_res(x,a,c):\n",
    "    an=a/norm.pdf(m,loc=m,scale=c)\n",
    "    return an*norm.pdf(x,loc=m,scale=c)\n",
    "def energy_from_channel(channel):\n",
    "    '''Rückgabe in eV'''\n",
    "    return 5.4857e6 * channel / 3912\n",
    "data=np.append([0,0],np.loadtxt(\"data/langzeit.TKA\")[2:])\n",
    "x=np.arange(0,4096,1)\n",
    "xE=energy_from_channel(x)"
   ]
  },
  {
   "cell_type": "code",
   "execution_count": 3,
   "metadata": {},
   "outputs": [
    {
     "name": "stderr",
     "output_type": "stream",
     "text": [
      "C:\\Users\\eiket\\AppData\\Local\\Programs\\Python\\Python310\\lib\\site-packages\\scipy\\optimize\\minpack.py:833: OptimizeWarning: Covariance of the parameters could not be estimated\n",
      "  warnings.warn('Covariance of the parameters could not be estimated',\n",
      "C:\\Users\\eiket\\AppData\\Local\\Temp\\ipykernel_11180\\3802127505.py:27: UserWarning: Tight layout not applied. tight_layout cannot make axes height small enough to accommodate all axes decorations.\n",
      "  plt.tight_layout()\n"
     ]
    },
    {
     "name": "stdout",
     "output_type": "stream",
     "text": [
      "254000.0 5470000.0 8.0\n",
      "7.286721308852178e-252\n"
     ]
    }
   ],
   "source": [
    "class data_class:\n",
    "    def __init__(self,xarr,yarr) -> None:\n",
    "        self.xarr=xarr\n",
    "        self.yarr=yarr\n",
    "        self.length=len(xarr)\n",
    "        pass\n",
    "    def fit_gauss(self,p0=[1,1,1]):\n",
    "        self.popt,self.pcov = curve_fit(gauss,self.xarr,self.yarr,p0=p0)\n",
    "        a,m,c=self.popt\n",
    "        print(a,m,c)\n",
    "        self.res_gauss = gauss(self.xarr,a,m,c)\n",
    "        print(max(self.res_gauss))\n",
    "        return self.res_gauss,self.pcov\n",
    "    def plot_data(self,titel=\"\",xlim=[],xlabel=\"X-Achse\",ylabel=\"Y-Achse\",figuresize=[20,30],show_gauss=True,save=\"fig.pdf\"):\n",
    "        fig = plt.figure(figsize=figuresize)\n",
    "        gs = GridSpec(30,10)\n",
    "        fig1 = fig.add_subplot(gs[:,:])\n",
    "        fig1.set_title(titel)\n",
    "        if xlim==[]:\n",
    "            xlim=[min(self.xarr),max(self.xarr)]\n",
    "        fig1.set_xlim(xlim)\n",
    "        fig1.set_ylabel(ylabel)\n",
    "        fig1.set_xlabel(xlabel)\n",
    "        fig1.plot(self.xarr,self.yarr)\n",
    "        if show_gauss:\n",
    "            fig1.plot(self.xarr,self.res_gauss)\n",
    "        plt.tight_layout()\n",
    "        plt.savefig(\"plots/test.pdf\")\n",
    "        plt.show()\n",
    "test=data_class(xE,data)\n",
    "test.fit_gauss(p0=[254000,5.47e6,8])\n",
    "test.plot_data()"
   ]
  },
  {
   "cell_type": "code",
   "execution_count": 4,
   "metadata": {},
   "outputs": [
    {
     "name": "stdout",
     "output_type": "stream",
     "text": [
      "Max 1 5473079.524539878 3903\n",
      "Max 2 5428206.722903886 3871\n",
      "Max 3 5517952.326175869 3935\n"
     ]
    },
    {
     "name": "stderr",
     "output_type": "stream",
     "text": [
      "C:\\Users\\eiket\\AppData\\Local\\Temp\\ipykernel_11180\\3626094766.py:43: UserWarning: Tight layout not applied. tight_layout cannot make axes height small enough to accommodate all axes decorations.\n",
      "  plt.tight_layout()\n"
     ]
    }
   ],
   "source": [
    "fig = plt.figure(figsize=(10,50))\n",
    "gs = GridSpec(40,10)\n",
    "fig1 = fig.add_subplot(gs[0:10,:])\n",
    "fig2 = fig.add_subplot(gs[11:20,:])\n",
    "fig3 = fig.add_subplot(gs[21:30,:])\n",
    "fig4 = fig.add_subplot(gs[31:40,:])\n",
    "fig1.set_title(\"Mustergültiges $\\\\alpha$-Spektrum\")\n",
    "fig1.set_xlim(5e3,5.7e3)\n",
    "fig3.set_xlim(5e3,5.7e3)\n",
    "fig2.set_xlim(5e3,5.7e3)\n",
    "fig4.set_xlim(5e3,5.7e3)\n",
    "fig1.set_ylabel(\"Impulse\")\n",
    "fig1.set_xlabel(\"Energie in keV\")\n",
    "fig2.set_ylabel(\"Impulse\")\n",
    "fig3.set_ylabel(\"Impulse\")\n",
    "fig4.set_ylabel(\"Impulse\")\n",
    "fig2.set_xlabel(\"Energie in keV\")\n",
    "fig3.set_xlabel(\"Energie in keV\")\n",
    "fig4.set_xlabel(\"Energie in keV\")\n",
    "\n",
    "\n",
    "fig1.plot(xE*1e-3,data)\n",
    "\n",
    "\n",
    "a,m,c=254150,3903,13\n",
    "print(\"Max 1 \"+str(energy_from_channel(m)),m)\n",
    "peak1=np.array(gauss(x,a,m,c))\n",
    "fig1.plot(xE*1e-3,peak1)\n",
    "data1=data-peak1\n",
    "a,m,c=162100,3871,13\n",
    "print(\"Max 2 \"+str(energy_from_channel(m)),m)\n",
    "peak2=np.array(gauss(x,a,m,c))\n",
    "fig2.plot(xE*1e-3,peak2)\n",
    "fig2.plot(xE*1e-3,data1)\n",
    "data2=data1-peak2\n",
    "a,m,c=150000,3935,9\n",
    "print(\"Max 3 \"+str(energy_from_channel(m)),m)\n",
    "peak3=np.array(gauss(x,a,m,c))\n",
    "fig3.plot(xE*1e-3,peak3)\n",
    "fig3.plot(xE*1e-3,data2)\n",
    "data3=data2-peak3\n",
    "fig4.plot(xE*1e-3,data3)\n",
    "plt.tight_layout()\n",
    "plt.savefig(\"plots/Mus_Auflösung.pdf\")\n",
    "plt.show()"
   ]
  },
  {
   "cell_type": "code",
   "execution_count": 5,
   "metadata": {},
   "outputs": [
    {
     "name": "stderr",
     "output_type": "stream",
     "text": [
      "C:\\Users\\eiket\\AppData\\Local\\Temp\\ipykernel_11180\\710938971.py:20: UserWarning: Tight layout not applied. tight_layout cannot make axes height small enough to accommodate all axes decorations.\n",
      "  plt.tight_layout()\n"
     ]
    }
   ],
   "source": [
    "fig = plt.figure(figsize=(20,30))\n",
    "gs = GridSpec(30,10)\n",
    "fig1 = fig.add_subplot(gs[:,:])\n",
    "fig1.set_title(\"Mustergültiges $\\\\alpha$-Spektrum\")\n",
    "fig1.set_xlim(3800,4010)\n",
    "fig1.set_ylabel(\"Impulse\")\n",
    "fig1.set_xlabel(\"Kanalnummer\")\n",
    "fig2.set_ylabel(\"Impulse\")\n",
    "fig2.set_xlabel(\"Kanalnummer\")\n",
    "\n",
    "\n",
    "fig1.plot(xE,data)\n",
    "popt,pcov = curve_fit(gauss,x,data,p0=[54150,3903,13])\n",
    "a,m,c=popt\n",
    "# a,m,c=254150,3903,13\n",
    "peak1=np.array(gauss(x,a,m,c))\n",
    "# fig1.plot(xE,peak1)\n",
    "\n",
    "\n",
    "plt.tight_layout()\n",
    "plt.savefig(\"plots/Mus_roh.pdf\")\n",
    "plt.show()"
   ]
  },
  {
   "cell_type": "markdown",
   "metadata": {},
   "source": [
    "Auflösung"
   ]
  },
  {
   "cell_type": "code",
   "execution_count": 9,
   "metadata": {},
   "outputs": [
    {
     "name": "stdout",
     "output_type": "stream",
     "text": [
      "0V 2150 286.0\n",
      "241.32901388635943 2141.7679527837176 47.76677324366668\n",
      "1V 2149 280.0\n",
      "238.4847850266861 2148.2641954166425 47.81230007930346\n",
      "2V 2181 294.0\n",
      "235.48057530833617 2176.014278567548 48.10189594029248\n",
      "3V 2224 268.0\n",
      "237.12094220816726 2201.2952711017138 47.49381445300327\n",
      "4V 2241 278.0\n",
      "238.65926345758362 2229.3562300473313 48.010522384014735\n",
      "5V 2200 250\n",
      "236.8581870482536 2268.302885786131 47.88504058912945\n",
      "10V 3155 225.0\n",
      "172.56719282037682 3135.875815242765 63.06613452192401\n",
      "20V 3754 303.0\n",
      "179.0465247791283 3710.6292548904207 57.00104129013587\n",
      "40V 3898 310.0\n",
      "173.24460582493938 3854.645815186897 58.99682046371625\n"
     ]
    },
    {
     "name": "stderr",
     "output_type": "stream",
     "text": [
      "C:\\Users\\eiket\\AppData\\Local\\Temp\\ipykernel_11180\\2141461844.py:33: UserWarning: Legend does not support 0 instances.\n",
      "A proxy artist may be used instead.\n",
      "See: https://matplotlib.org/users/legend_guide.html#creating-artists-specifically-for-adding-to-the-legend-aka-proxy-artists\n",
      "  plt.legend(Ul,fwhm)\n",
      "C:\\Users\\eiket\\AppData\\Local\\Temp\\ipykernel_11180\\2141461844.py:33: UserWarning: Legend does not support 1 instances.\n",
      "A proxy artist may be used instead.\n",
      "See: https://matplotlib.org/users/legend_guide.html#creating-artists-specifically-for-adding-to-the-legend-aka-proxy-artists\n",
      "  plt.legend(Ul,fwhm)\n",
      "C:\\Users\\eiket\\AppData\\Local\\Temp\\ipykernel_11180\\2141461844.py:33: UserWarning: Legend does not support 2 instances.\n",
      "A proxy artist may be used instead.\n",
      "See: https://matplotlib.org/users/legend_guide.html#creating-artists-specifically-for-adding-to-the-legend-aka-proxy-artists\n",
      "  plt.legend(Ul,fwhm)\n",
      "C:\\Users\\eiket\\AppData\\Local\\Temp\\ipykernel_11180\\2141461844.py:33: UserWarning: Legend does not support 3 instances.\n",
      "A proxy artist may be used instead.\n",
      "See: https://matplotlib.org/users/legend_guide.html#creating-artists-specifically-for-adding-to-the-legend-aka-proxy-artists\n",
      "  plt.legend(Ul,fwhm)\n",
      "C:\\Users\\eiket\\AppData\\Local\\Temp\\ipykernel_11180\\2141461844.py:33: UserWarning: Legend does not support 4 instances.\n",
      "A proxy artist may be used instead.\n",
      "See: https://matplotlib.org/users/legend_guide.html#creating-artists-specifically-for-adding-to-the-legend-aka-proxy-artists\n",
      "  plt.legend(Ul,fwhm)\n",
      "C:\\Users\\eiket\\AppData\\Local\\Temp\\ipykernel_11180\\2141461844.py:33: UserWarning: Legend does not support 5 instances.\n",
      "A proxy artist may be used instead.\n",
      "See: https://matplotlib.org/users/legend_guide.html#creating-artists-specifically-for-adding-to-the-legend-aka-proxy-artists\n",
      "  plt.legend(Ul,fwhm)\n",
      "C:\\Users\\eiket\\AppData\\Local\\Temp\\ipykernel_11180\\2141461844.py:33: UserWarning: Legend does not support 10 instances.\n",
      "A proxy artist may be used instead.\n",
      "See: https://matplotlib.org/users/legend_guide.html#creating-artists-specifically-for-adding-to-the-legend-aka-proxy-artists\n",
      "  plt.legend(Ul,fwhm)\n",
      "C:\\Users\\eiket\\AppData\\Local\\Temp\\ipykernel_11180\\2141461844.py:33: UserWarning: Legend does not support 20 instances.\n",
      "A proxy artist may be used instead.\n",
      "See: https://matplotlib.org/users/legend_guide.html#creating-artists-specifically-for-adding-to-the-legend-aka-proxy-artists\n",
      "  plt.legend(Ul,fwhm)\n",
      "C:\\Users\\eiket\\AppData\\Local\\Temp\\ipykernel_11180\\2141461844.py:33: UserWarning: Legend does not support 40 instances.\n",
      "A proxy artist may be used instead.\n",
      "See: https://matplotlib.org/users/legend_guide.html#creating-artists-specifically-for-adding-to-the-legend-aka-proxy-artists\n",
      "  plt.legend(Ul,fwhm)\n",
      "C:\\Users\\eiket\\AppData\\Local\\Temp\\ipykernel_11180\\2141461844.py:37: UserWarning: Tight layout not applied. tight_layout cannot make axes height small enough to accommodate all axes decorations.\n",
      "  plt.tight_layout()\n"
     ]
    }
   ],
   "source": [
    "data=[]\n",
    "labels=[]\n",
    "Ul = [0,1,2,3,4,5,10,20,40]\n",
    "for U in Ul:\n",
    "    data.append(np.append([0,0],np.loadtxt(\"data/auflösung/auflösung_\"+str(U)+\".TKA\")[2:]))\n",
    "    labels.append(str(U)+\"V\")\n",
    "\n",
    "\n",
    "fig = plt.figure(figsize=(20,30))\n",
    "gs = GridSpec(30,10)\n",
    "fig1 = fig.add_subplot(gs[:,:])\n",
    "# fig1.set_xlim(3800,4010)\n",
    "fig1.set_ylabel(\"Impulse\")\n",
    "fig1.set_xlabel(\"Energie in keV\")\n",
    "fig2.set_ylabel(\"Impulse\")\n",
    "fig2.set_xlabel(\"Energie in keV\")\n",
    "fwhm=[]\n",
    "for i in range(len(data)):\n",
    "    if i==5:\n",
    "        m=2200\n",
    "        a=250\n",
    "    else:\n",
    "        m=np.argmax(data[i])\n",
    "        a=np.max(data[i])\n",
    "    print(labels[i],m,a)\n",
    "    popt,pcov=curve_fit(gauss,x,data[i],p0=[a,m,3])\n",
    "    a,m,c=popt\n",
    "    fwhm.append(2*np.sqrt(2*np.log(2))* c)\n",
    "    print(a,m,c)\n",
    "    fig1.plot(xE*1e-3,data[i],label=labels[i])\n",
    "    fig1.plot(xE*1e-3,gauss(x,a,m,c),label=labels[i]+\" fit\")\n",
    "\n",
    "plt.legend(Ul,fwhm)\n",
    "\n",
    "# fig1.plot(x,peak1)\n",
    "\n",
    "plt.tight_layout()\n",
    "plt.savefig(\"plots/Auf_spektrum.pdf\")\n",
    "plt.show()\n",
    "\n"
   ]
  },
  {
   "cell_type": "code",
   "execution_count": 7,
   "metadata": {},
   "outputs": [],
   "source": [
    "plt.plot(Ul,fwhm)\n",
    "plt.show()"
   ]
  }
 ],
 "metadata": {
  "kernelspec": {
   "display_name": "Python 3.10.6 64-bit",
   "language": "python",
   "name": "python3"
  },
  "language_info": {
   "codemirror_mode": {
    "name": "ipython",
    "version": 3
   },
   "file_extension": ".py",
   "mimetype": "text/x-python",
   "name": "python",
   "nbconvert_exporter": "python",
   "pygments_lexer": "ipython3",
   "version": "3.10.1"
  },
  "vscode": {
   "interpreter": {
    "hash": "e2a6788a9ab87ed78ac481f8eb5224eeebc6bbdf2aeae1c1749887ec9a11b6e7"
   }
  }
 },
 "nbformat": 4,
 "nbformat_minor": 2
}